{
  "nbformat": 4,
  "nbformat_minor": 0,
  "metadata": {
    "colab": {
      "name": "Day 2: linear regression.ipynb",
      "provenance": [],
      "collapsed_sections": []
    },
    "kernelspec": {
      "name": "python3",
      "display_name": "Python 3"
    }
  },
  "cells": [
    {
      "cell_type": "markdown",
      "metadata": {
        "id": "an2sxpUFKF8X"
      },
      "source": [
        "# What is linear regression?\n",
        "*  Linear regression is a linear model, e.g. a model that assumes a linear relationship between the input variables (x) and the single output variable (y)\n",
        "*  More specifically, that y can be calculated from a linear combination of the input variables (x).\n",
        "*   When there is a single input variable (x), the method is referred to as simple linear regression\n",
        "*   When there are multiple input variables, literature from statistics often refers to the method as multiple linear regression."
      ]
    },
    {
      "cell_type": "markdown",
      "metadata": {
        "id": "9-bMuz3IL6Fe"
      },
      "source": [
        "# Simple Linear Regression\n",
        "Simple linear regression is an approach for predicting a response using a single feature.Let us consider a dataset where we have a value of response y for every feature x.\n",
        "![python-linear-regression.png](data:image/png;base64,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)\n",
        "\n",
        "Lets plot this dataset in a 2 dimensional space:\n",
        "\n",
        "\n",
        "![python-linear-regression-1.png](data:image/png;base64,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)\n",
        "\n"
      ]
    },
    {
      "cell_type": "markdown",
      "metadata": {
        "id": "R8Bi1cUMNxBA"
      },
      "source": [
        "So we need a linear line which will predict the y for a x.\n",
        "The equation of regression line is represented as:\n",
        "\n",
        "```\n",
        " pred = c + mx\n",
        "```\n",
        "\n",
        "The task of linear regression is to estimate the best c and m such that loss is minimum enough.\n"
      ]
    },
    {
      "cell_type": "markdown",
      "metadata": {
        "id": "xW59-feoPz3Q"
      },
      "source": [
        "# Multiple linear regression\n",
        "\n",
        "If your have to predict y , based on multiple feature then what will u do?\n",
        "\n",
        "For example, price of a laptop depends on various things: CPU, ram size, ssd size , etc. So if you want to predict a price of a laptop, you will need to consider all of the feature related to the laptop. So for a multiple linear regression, what will be the equation:\n",
        "\n",
        "\n",
        "```\n",
        " pred = c + cpu * m1 + ram s-ze * m2 + ssd size * m3 \n",
        "```\n",
        "\n",
        "So regression will estimate m1, m2 and m3 based on the historical data.\n",
        "\n"
      ]
    },
    {
      "cell_type": "markdown",
      "metadata": {
        "id": "hTmvbXMsTab_"
      },
      "source": [
        "# Implementation\n",
        "Let's implement linear regression using a well known libray.\n",
        " "
      ]
    },
    {
      "cell_type": "markdown",
      "metadata": {
        "id": "5CO-jUzUTxYC"
      },
      "source": [
        "### Simple linear regression"
      ]
    },
    {
      "cell_type": "code",
      "metadata": {
        "id": "mmNXeGYqSJYe"
      },
      "source": [
        "import numpy as np"
      ],
      "execution_count": 1,
      "outputs": []
    },
    {
      "cell_type": "markdown",
      "metadata": {
        "id": "IJArAw3aUJPe"
      },
      "source": [
        "Now, lets make ready  of our train and test data:"
      ]
    },
    {
      "cell_type": "code",
      "metadata": {
        "id": "BnWWdKZrUQo3"
      },
      "source": [
        "data_x = np.array([0, 1, 2, 3, 4, 5, 6, 7, 8, 9])\n",
        "data_y = np.array([1, 3, 2, 5, 7, 8, 8, 9, 10, 12])\n"
      ],
      "execution_count": 2,
      "outputs": []
    },
    {
      "cell_type": "markdown",
      "metadata": {
        "id": "GvRQkYxkWRfY"
      },
      "source": [
        "Reshape the data into a two dimensin. Each row  will represent one data."
      ]
    },
    {
      "cell_type": "code",
      "metadata": {
        "id": "h7Axcx2UWdiR",
        "outputId": "7270a1d3-f4ad-4515-9875-ab9bf971556f",
        "colab": {
          "base_uri": "https://localhost:8080/",
          "height": 187
        }
      },
      "source": [
        "data_x = np.reshape(data_x, (-1, 1))\n",
        "data_y = np.reshape(data_y, (-1, 1))\n",
        "\n",
        "data_x"
      ],
      "execution_count": 3,
      "outputs": [
        {
          "output_type": "execute_result",
          "data": {
            "text/plain": [
              "array([[0],\n",
              "       [1],\n",
              "       [2],\n",
              "       [3],\n",
              "       [4],\n",
              "       [5],\n",
              "       [6],\n",
              "       [7],\n",
              "       [8],\n",
              "       [9]])"
            ]
          },
          "metadata": {
            "tags": []
          },
          "execution_count": 3
        }
      ]
    },
    {
      "cell_type": "code",
      "metadata": {
        "id": "0dqyS9FcPBcY",
        "outputId": "c5bc70d4-93d0-4caf-97ac-1acf62f7d084",
        "colab": {
          "base_uri": "https://localhost:8080/",
          "height": 187
        }
      },
      "source": [
        "data_y"
      ],
      "execution_count": 4,
      "outputs": [
        {
          "output_type": "execute_result",
          "data": {
            "text/plain": [
              "array([[ 1],\n",
              "       [ 3],\n",
              "       [ 2],\n",
              "       [ 5],\n",
              "       [ 7],\n",
              "       [ 8],\n",
              "       [ 8],\n",
              "       [ 9],\n",
              "       [10],\n",
              "       [12]])"
            ]
          },
          "metadata": {
            "tags": []
          },
          "execution_count": 4
        }
      ]
    },
    {
      "cell_type": "markdown",
      "metadata": {
        "id": "as7IOvHrUxw9"
      },
      "source": [
        "Divide the data into train and test set. Train set will be used as historical data to train the model and test set will be used to test our trained model."
      ]
    },
    {
      "cell_type": "code",
      "metadata": {
        "id": "eOPYYKBAVd1D"
      },
      "source": [
        "train_x, train_y = data_x[:8], data_y[:8]\n",
        "test_x, test_y = data_x[8:], data_y[8:]"
      ],
      "execution_count": 5,
      "outputs": []
    },
    {
      "cell_type": "code",
      "metadata": {
        "id": "ePOFDfQEVguj",
        "outputId": "1afce172-db06-46d5-a14d-a2f664a145af",
        "colab": {
          "base_uri": "https://localhost:8080/",
          "height": 272
        }
      },
      "source": [
        "train_x, train_y"
      ],
      "execution_count": 6,
      "outputs": [
        {
          "output_type": "execute_result",
          "data": {
            "text/plain": [
              "(array([[0],\n",
              "        [1],\n",
              "        [2],\n",
              "        [3],\n",
              "        [4],\n",
              "        [5],\n",
              "        [6],\n",
              "        [7]]), array([[1],\n",
              "        [3],\n",
              "        [2],\n",
              "        [5],\n",
              "        [7],\n",
              "        [8],\n",
              "        [8],\n",
              "        [9]]))"
            ]
          },
          "metadata": {
            "tags": []
          },
          "execution_count": 6
        }
      ]
    },
    {
      "cell_type": "markdown",
      "metadata": {
        "id": "nDuDy3nRVoxl"
      },
      "source": [
        "Now, we will import the library for linear regression."
      ]
    },
    {
      "cell_type": "code",
      "metadata": {
        "id": "ZIvwHCJeVmSi"
      },
      "source": [
        "from sklearn.linear_model import LinearRegression"
      ],
      "execution_count": 7,
      "outputs": []
    },
    {
      "cell_type": "markdown",
      "metadata": {
        "id": "Rw5q7gVxV5A-"
      },
      "source": [
        "Initilize the regressor:"
      ]
    },
    {
      "cell_type": "code",
      "metadata": {
        "id": "Gfjda7m7V9S_"
      },
      "source": [
        "regressor = LinearRegression()"
      ],
      "execution_count": 8,
      "outputs": []
    },
    {
      "cell_type": "markdown",
      "metadata": {
        "id": "mERNsZW8WBtj"
      },
      "source": [
        "Train the data:"
      ]
    },
    {
      "cell_type": "code",
      "metadata": {
        "id": "7YLMc__yWAx_",
        "outputId": "04d1d997-ac1f-4b75-8332-3099c2a8fb0a",
        "colab": {
          "base_uri": "https://localhost:8080/",
          "height": 34
        }
      },
      "source": [
        "regressor.fit(train_x, train_y)"
      ],
      "execution_count": 9,
      "outputs": [
        {
          "output_type": "execute_result",
          "data": {
            "text/plain": [
              "LinearRegression(copy_X=True, fit_intercept=True, n_jobs=None, normalize=False)"
            ]
          },
          "metadata": {
            "tags": []
          },
          "execution_count": 9
        }
      ]
    },
    {
      "cell_type": "markdown",
      "metadata": {
        "id": "UcxTEyxFWrl9"
      },
      "source": [
        "Now we will test our trained model with test data:"
      ]
    },
    {
      "cell_type": "code",
      "metadata": {
        "id": "wcP0OG5wWyvq",
        "outputId": "55de34d7-f723-4ebe-8025-490975466c98",
        "colab": {
          "base_uri": "https://localhost:8080/",
          "height": 51
        }
      },
      "source": [
        "pred = regressor.predict(test_x)\n",
        "pred"
      ],
      "execution_count": 10,
      "outputs": [
        {
          "output_type": "execute_result",
          "data": {
            "text/plain": [
              "array([[10.78571429],\n",
              "       [11.98809524]])"
            ]
          },
          "metadata": {
            "tags": []
          },
          "execution_count": 10
        }
      ]
    },
    {
      "cell_type": "markdown",
      "metadata": {
        "id": "TWM7bNfDXJ1b"
      },
      "source": [
        "Lets calculate the error with the wellknown error metric mse:"
      ]
    },
    {
      "cell_type": "code",
      "metadata": {
        "id": "Pspa-b5tW-cZ",
        "outputId": "2bf62926-7626-43fe-b362-a0fe39618082",
        "colab": {
          "base_uri": "https://localhost:8080/",
          "height": 34
        }
      },
      "source": [
        "from sklearn.metrics import mean_squared_error\n",
        "\n",
        "mse = mean_squared_error(test_y, pred)\n",
        "mse"
      ],
      "execution_count": 11,
      "outputs": [
        {
          "output_type": "execute_result",
          "data": {
            "text/plain": [
              "0.3087443310657616"
            ]
          },
          "metadata": {
            "tags": []
          },
          "execution_count": 11
        }
      ]
    },
    {
      "cell_type": "markdown",
      "metadata": {
        "id": "87D874cNXhje"
      },
      "source": [
        "### Multiple Linear Regression\n",
        "Now how will you train and test the data if you  have multiple feature ?"
      ]
    },
    {
      "cell_type": "markdown",
      "metadata": {
        "id": "uc0ZaUq4X6PL"
      },
      "source": [
        "I already told that each data will have a single row. So during simple linear regression, train_x size was ( n * 1) where n is the number of data and 1 is the number of feature. So if you have 3 feature for each data how will be the data_x and data_y ??"
      ]
    },
    {
      "cell_type": "code",
      "metadata": {
        "id": "ESS_8RP_Ya7n"
      },
      "source": [
        "data_x = np.array(\n",
        "    [\n",
        "     [1, 2, 3],\n",
        "     [2, 3, 4],\n",
        "     [3, 4, 5],\n",
        "     [4, 5, 6],\n",
        "     [5, 6, 7], \n",
        "     [6, 7, 8],\n",
        "     [7, 8, 9],\n",
        "     [8, 9, 10],\n",
        "     [9, 10, 11],\n",
        "     [10, 11, 12]\n",
        "    ]\n",
        ")\n",
        "data_y = np.array([[2], [3], [4], [6], [6], [7], [8], [8], [9], [10]])"
      ],
      "execution_count": 12,
      "outputs": []
    },
    {
      "cell_type": "markdown",
      "metadata": {
        "id": "xd5Ae3LUZUD2"
      },
      "source": [
        "Now divide the data into train and test data"
      ]
    },
    {
      "cell_type": "code",
      "metadata": {
        "id": "oIj1yDG6ZPBD"
      },
      "source": [
        "train_x, train_y = data_x[:8], data_y[:8]\n",
        "test_x, test_y = data_x[8:], data_y[8:]"
      ],
      "execution_count": 13,
      "outputs": []
    },
    {
      "cell_type": "markdown",
      "metadata": {
        "id": "C-2Pdei5Zn3o"
      },
      "source": [
        "Initilize regression"
      ]
    },
    {
      "cell_type": "code",
      "metadata": {
        "id": "MsSj4bFnZmUi"
      },
      "source": [
        "multiregressor = LinearRegression()"
      ],
      "execution_count": 14,
      "outputs": []
    },
    {
      "cell_type": "markdown",
      "metadata": {
        "id": "mH8odtwMZwz5"
      },
      "source": [
        "Train the data:"
      ]
    },
    {
      "cell_type": "code",
      "metadata": {
        "id": "2ZikaUw8ZzG0",
        "outputId": "407c8381-199d-4a43-b3a1-bf97b806e7f4",
        "colab": {
          "base_uri": "https://localhost:8080/",
          "height": 34
        }
      },
      "source": [
        "multiregressor.fit(train_x, train_y)"
      ],
      "execution_count": 15,
      "outputs": [
        {
          "output_type": "execute_result",
          "data": {
            "text/plain": [
              "LinearRegression(copy_X=True, fit_intercept=True, n_jobs=None, normalize=False)"
            ]
          },
          "metadata": {
            "tags": []
          },
          "execution_count": 15
        }
      ]
    },
    {
      "cell_type": "markdown",
      "metadata": {
        "id": "XYGNiNlgaB2D"
      },
      "source": [
        "Predict for the test data"
      ]
    },
    {
      "cell_type": "code",
      "metadata": {
        "id": "h_heT5NkZ4dS",
        "outputId": "fcf6d15c-c3f1-4906-813e-bfccaf11e433",
        "colab": {
          "base_uri": "https://localhost:8080/",
          "height": 51
        }
      },
      "source": [
        "pred = multiregressor.predict(test_x)\n",
        "pred"
      ],
      "execution_count": 16,
      "outputs": [
        {
          "output_type": "execute_result",
          "data": {
            "text/plain": [
              "array([[ 9.57142857],\n",
              "       [10.47619048]])"
            ]
          },
          "metadata": {
            "tags": []
          },
          "execution_count": 16
        }
      ]
    },
    {
      "cell_type": "markdown",
      "metadata": {
        "id": "JKnvtXQvaGaH"
      },
      "source": [
        "Now calculate the mean squared error"
      ]
    },
    {
      "cell_type": "code",
      "metadata": {
        "id": "FQWNJSZZaKfD"
      },
      "source": [
        "mse = mean_squared_error(test_y, pred)"
      ],
      "execution_count": 17,
      "outputs": []
    },
    {
      "cell_type": "code",
      "metadata": {
        "id": "lOUEb8A4aQcg",
        "outputId": "4fbdf2ea-a25a-4cbb-a801-09cfc1a35567",
        "colab": {
          "base_uri": "https://localhost:8080/",
          "height": 34
        }
      },
      "source": [
        "mse"
      ],
      "execution_count": 18,
      "outputs": [
        {
          "output_type": "execute_result",
          "data": {
            "text/plain": [
              "0.276643990929707"
            ]
          },
          "metadata": {
            "tags": []
          },
          "execution_count": 18
        }
      ]
    },
    {
      "cell_type": "markdown",
      "metadata": {
        "id": "2EGYq7q7MNkD"
      },
      "source": [
        "### References\n",
        "\n",
        "\n",
        "1.   https://www.geeksforgeeks.org/linear-regression-python-implementation/?ref=rp\n",
        "\n",
        "\n"
      ]
    }
  ]
}